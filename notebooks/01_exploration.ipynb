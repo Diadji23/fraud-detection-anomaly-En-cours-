{
 "cells": [
  {
   "cell_type": "markdown",
   "id": "8c5095da",
   "metadata": {},
   "source": [
    "#### Exploaration "
   ]
  },
  {
   "cell_type": "code",
   "execution_count": 1,
   "id": "fe583af4",
   "metadata": {},
   "outputs": [
    {
     "name": "stdout",
     "output_type": "stream",
     "text": [
      "<class 'pandas.core.frame.DataFrame'>\n",
      "RangeIndex: 284807 entries, 0 to 284806\n",
      "Data columns (total 31 columns):\n",
      " #   Column  Non-Null Count   Dtype  \n",
      "---  ------  --------------   -----  \n",
      " 0   Time    284807 non-null  float64\n",
      " 1   V1      284807 non-null  float64\n",
      " 2   V2      284807 non-null  float64\n",
      " 3   V3      284807 non-null  float64\n",
      " 4   V4      284807 non-null  float64\n",
      " 5   V5      284807 non-null  float64\n",
      " 6   V6      284807 non-null  float64\n",
      " 7   V7      284807 non-null  float64\n",
      " 8   V8      284807 non-null  float64\n",
      " 9   V9      284807 non-null  float64\n",
      " 10  V10     284807 non-null  float64\n",
      " 11  V11     284807 non-null  float64\n",
      " 12  V12     284807 non-null  float64\n",
      " 13  V13     284807 non-null  float64\n",
      " 14  V14     284807 non-null  float64\n",
      " 15  V15     284807 non-null  float64\n",
      " 16  V16     284807 non-null  float64\n",
      " 17  V17     284807 non-null  float64\n",
      " 18  V18     284807 non-null  float64\n",
      " 19  V19     284807 non-null  float64\n",
      " 20  V20     284807 non-null  float64\n",
      " 21  V21     284807 non-null  float64\n",
      " 22  V22     284807 non-null  float64\n",
      " 23  V23     284807 non-null  float64\n",
      " 24  V24     284807 non-null  float64\n",
      " 25  V25     284807 non-null  float64\n",
      " 26  V26     284807 non-null  float64\n",
      " 27  V27     284807 non-null  float64\n",
      " 28  V28     284807 non-null  float64\n",
      " 29  Amount  284807 non-null  float64\n",
      " 30  Class   284807 non-null  int64  \n",
      "dtypes: float64(30), int64(1)\n",
      "memory usage: 67.4 MB\n",
      "None\n",
      "(284807, 31)\n"
     ]
    }
   ],
   "source": [
    "import pandas as pd \n",
    "import numpy as np \n",
    "import seaborn as sns \n",
    "import matplotlib.pyplot as plt \n",
    "\n",
    "data = pd.read_csv(\"./data/creditcard.csv\")\n",
    "\n",
    "\n",
    "print(data.info())\n",
    "print(data.shape)"
   ]
  },
  {
   "cell_type": "code",
   "execution_count": 2,
   "id": "2fd99c7b",
   "metadata": {},
   "outputs": [
    {
     "name": "stdout",
     "output_type": "stream",
     "text": [
      "                Time            V1            V2            V3            V4  \\\n",
      "count  284807.000000  2.848070e+05  2.848070e+05  2.848070e+05  2.848070e+05   \n",
      "mean    94813.859575  1.168375e-15  3.416908e-16 -1.379537e-15  2.074095e-15   \n",
      "std     47488.145955  1.958696e+00  1.651309e+00  1.516255e+00  1.415869e+00   \n",
      "min         0.000000 -5.640751e+01 -7.271573e+01 -4.832559e+01 -5.683171e+00   \n",
      "25%     54201.500000 -9.203734e-01 -5.985499e-01 -8.903648e-01 -8.486401e-01   \n",
      "50%     84692.000000  1.810880e-02  6.548556e-02  1.798463e-01 -1.984653e-02   \n",
      "75%    139320.500000  1.315642e+00  8.037239e-01  1.027196e+00  7.433413e-01   \n",
      "max    172792.000000  2.454930e+00  2.205773e+01  9.382558e+00  1.687534e+01   \n",
      "\n",
      "                 V5            V6            V7            V8            V9  \\\n",
      "count  2.848070e+05  2.848070e+05  2.848070e+05  2.848070e+05  2.848070e+05   \n",
      "mean   9.604066e-16  1.487313e-15 -5.556467e-16  1.213481e-16 -2.406331e-15   \n",
      "std    1.380247e+00  1.332271e+00  1.237094e+00  1.194353e+00  1.098632e+00   \n",
      "min   -1.137433e+02 -2.616051e+01 -4.355724e+01 -7.321672e+01 -1.343407e+01   \n",
      "25%   -6.915971e-01 -7.682956e-01 -5.540759e-01 -2.086297e-01 -6.430976e-01   \n",
      "50%   -5.433583e-02 -2.741871e-01  4.010308e-02  2.235804e-02 -5.142873e-02   \n",
      "75%    6.119264e-01  3.985649e-01  5.704361e-01  3.273459e-01  5.971390e-01   \n",
      "max    3.480167e+01  7.330163e+01  1.205895e+02  2.000721e+01  1.559499e+01   \n",
      "\n",
      "       ...           V21           V22           V23           V24  \\\n",
      "count  ...  2.848070e+05  2.848070e+05  2.848070e+05  2.848070e+05   \n",
      "mean   ...  1.654067e-16 -3.568593e-16  2.578648e-16  4.473266e-15   \n",
      "std    ...  7.345240e-01  7.257016e-01  6.244603e-01  6.056471e-01   \n",
      "min    ... -3.483038e+01 -1.093314e+01 -4.480774e+01 -2.836627e+00   \n",
      "25%    ... -2.283949e-01 -5.423504e-01 -1.618463e-01 -3.545861e-01   \n",
      "50%    ... -2.945017e-02  6.781943e-03 -1.119293e-02  4.097606e-02   \n",
      "75%    ...  1.863772e-01  5.285536e-01  1.476421e-01  4.395266e-01   \n",
      "max    ...  2.720284e+01  1.050309e+01  2.252841e+01  4.584549e+00   \n",
      "\n",
      "                V25           V26           V27           V28         Amount  \\\n",
      "count  2.848070e+05  2.848070e+05  2.848070e+05  2.848070e+05  284807.000000   \n",
      "mean   5.340915e-16  1.683437e-15 -3.660091e-16 -1.227390e-16      88.349619   \n",
      "std    5.212781e-01  4.822270e-01  4.036325e-01  3.300833e-01     250.120109   \n",
      "min   -1.029540e+01 -2.604551e+00 -2.256568e+01 -1.543008e+01       0.000000   \n",
      "25%   -3.171451e-01 -3.269839e-01 -7.083953e-02 -5.295979e-02       5.600000   \n",
      "50%    1.659350e-02 -5.213911e-02  1.342146e-03  1.124383e-02      22.000000   \n",
      "75%    3.507156e-01  2.409522e-01  9.104512e-02  7.827995e-02      77.165000   \n",
      "max    7.519589e+00  3.517346e+00  3.161220e+01  3.384781e+01   25691.160000   \n",
      "\n",
      "               Class  \n",
      "count  284807.000000  \n",
      "mean        0.001727  \n",
      "std         0.041527  \n",
      "min         0.000000  \n",
      "25%         0.000000  \n",
      "50%         0.000000  \n",
      "75%         0.000000  \n",
      "max         1.000000  \n",
      "\n",
      "[8 rows x 31 columns]\n"
     ]
    }
   ],
   "source": [
    "print(data.describe())"
   ]
  },
  {
   "cell_type": "code",
   "execution_count": 3,
   "id": "b4409374",
   "metadata": {},
   "outputs": [
    {
     "data": {
      "application/vnd.microsoft.datawrangler.viewer.v0+json": {
       "columns": [
        {
         "name": "index",
         "rawType": "object",
         "type": "string"
        },
        {
         "name": "Time",
         "rawType": "float64",
         "type": "float"
        },
        {
         "name": "V1",
         "rawType": "float64",
         "type": "float"
        },
        {
         "name": "V2",
         "rawType": "float64",
         "type": "float"
        },
        {
         "name": "V3",
         "rawType": "float64",
         "type": "float"
        },
        {
         "name": "V4",
         "rawType": "float64",
         "type": "float"
        },
        {
         "name": "V5",
         "rawType": "float64",
         "type": "float"
        },
        {
         "name": "V6",
         "rawType": "float64",
         "type": "float"
        },
        {
         "name": "V7",
         "rawType": "float64",
         "type": "float"
        },
        {
         "name": "V8",
         "rawType": "float64",
         "type": "float"
        },
        {
         "name": "V9",
         "rawType": "float64",
         "type": "float"
        },
        {
         "name": "V10",
         "rawType": "float64",
         "type": "float"
        },
        {
         "name": "V11",
         "rawType": "float64",
         "type": "float"
        },
        {
         "name": "V12",
         "rawType": "float64",
         "type": "float"
        },
        {
         "name": "V13",
         "rawType": "float64",
         "type": "float"
        },
        {
         "name": "V14",
         "rawType": "float64",
         "type": "float"
        },
        {
         "name": "V15",
         "rawType": "float64",
         "type": "float"
        },
        {
         "name": "V16",
         "rawType": "float64",
         "type": "float"
        },
        {
         "name": "V17",
         "rawType": "float64",
         "type": "float"
        },
        {
         "name": "V18",
         "rawType": "float64",
         "type": "float"
        },
        {
         "name": "V19",
         "rawType": "float64",
         "type": "float"
        },
        {
         "name": "V20",
         "rawType": "float64",
         "type": "float"
        },
        {
         "name": "V21",
         "rawType": "float64",
         "type": "float"
        },
        {
         "name": "V22",
         "rawType": "float64",
         "type": "float"
        },
        {
         "name": "V23",
         "rawType": "float64",
         "type": "float"
        },
        {
         "name": "V24",
         "rawType": "float64",
         "type": "float"
        },
        {
         "name": "V25",
         "rawType": "float64",
         "type": "float"
        },
        {
         "name": "V26",
         "rawType": "float64",
         "type": "float"
        },
        {
         "name": "V27",
         "rawType": "float64",
         "type": "float"
        },
        {
         "name": "V28",
         "rawType": "float64",
         "type": "float"
        },
        {
         "name": "Amount",
         "rawType": "float64",
         "type": "float"
        },
        {
         "name": "Class",
         "rawType": "float64",
         "type": "float"
        }
       ],
       "conversionMethod": "pd.DataFrame",
       "ref": "fc84f860-0239-496e-8bfa-f5a0e08dc7b5",
       "rows": [
        [
         "count",
         "284807.0",
         "284807.0",
         "284807.0",
         "284807.0",
         "284807.0",
         "284807.0",
         "284807.0",
         "284807.0",
         "284807.0",
         "284807.0",
         "284807.0",
         "284807.0",
         "284807.0",
         "284807.0",
         "284807.0",
         "284807.0",
         "284807.0",
         "284807.0",
         "284807.0",
         "284807.0",
         "284807.0",
         "284807.0",
         "284807.0",
         "284807.0",
         "284807.0",
         "284807.0",
         "284807.0",
         "284807.0",
         "284807.0",
         "284807.0",
         "284807.0"
        ],
        [
         "mean",
         "94813.85957508067",
         "1.1683749838001528e-15",
         "3.416908049651284e-16",
         "-1.379536707896593e-15",
         "2.0740951198584196e-15",
         "9.604066317127324e-16",
         "1.4873130132010145e-15",
         "-5.556467295694611e-16",
         "1.2134813634275587e-16",
         "-2.4063305498905906e-15",
         "2.2390527426993533e-15",
         "1.673326932726423e-15",
         "-1.2470117695222676e-15",
         "8.190001274383203e-16",
         "1.2072942051600827e-15",
         "4.887455859804944e-15",
         "1.4377159541859243e-15",
         "-3.7721706856547467e-16",
         "9.564149167014576e-16",
         "1.0399166050935636e-15",
         "6.406203628719748e-16",
         "1.654066907797022e-16",
         "-3.568593220079729e-16",
         "2.5786478972835623e-16",
         "4.473265530947536e-15",
         "5.340914685085768e-16",
         "1.6834371984034178e-15",
         "-3.6600908126037946e-16",
         "-1.2273899954199695e-16",
         "88.34961925093133",
         "0.001727485630620034"
        ],
        [
         "std",
         "47488.14595456617",
         "1.9586958038574858",
         "1.6513085794769975",
         "1.516255005177772",
         "1.4158685749409203",
         "1.3802467340314395",
         "1.3322710897575756",
         "1.2370935981826663",
         "1.1943529026692037",
         "1.0986320892243193",
         "1.0888497654025169",
         "1.0207130277115584",
         "0.9992013895301447",
         "0.9952742301251534",
         "0.9585956112570637",
         "0.9153160116104391",
         "0.8762528873883703",
         "0.8493370636743893",
         "0.8381762095288414",
         "0.8140405007685785",
         "0.7709250248871167",
         "0.734524014371313",
         "0.7257015604409116",
         "0.6244602955949903",
         "0.6056470678271602",
         "0.5212780705409426",
         "0.48222701326105727",
         "0.4036324949650307",
         "0.3300832641602509",
         "250.1201092401885",
         "0.04152718963546506"
        ],
        [
         "min",
         "0.0",
         "-56.407509631329",
         "-72.7157275629303",
         "-48.3255893623954",
         "-5.68317119816995",
         "-113.743306711146",
         "-26.1605059358433",
         "-43.5572415712451",
         "-73.2167184552674",
         "-13.4340663182301",
         "-24.5882624372475",
         "-4.79747346479757",
         "-18.6837146333443",
         "-5.79188120632084",
         "-19.2143254902614",
         "-4.49894467676621",
         "-14.1298545174931",
         "-25.1627993693248",
         "-9.49874592104677",
         "-7.21352743017759",
         "-54.497720494566",
         "-34.8303821448146",
         "-10.933143697655",
         "-44.8077352037913",
         "-2.83662691870341",
         "-10.2953970749851",
         "-2.60455055280817",
         "-22.5656793207827",
         "-15.4300839055349",
         "0.0",
         "0.0"
        ],
        [
         "25%",
         "54201.5",
         "-0.920373384390322",
         "-0.598549913464916",
         "-0.8903648381551406",
         "-0.848640116331273",
         "-0.6915970708876575",
         "-0.768295608460489",
         "-0.5540758790365226",
         "-0.2086297440394665",
         "-0.6430975702665915",
         "-0.5354257264933235",
         "-0.7624941955129775",
         "-0.40557148544041355",
         "-0.6485392991145684",
         "-0.4255740124549935",
         "-0.582884279157456",
         "-0.46803676671289796",
         "-0.483748313707048",
         "-0.498849798665041",
         "-0.4562989187444475",
         "-0.21172136467424701",
         "-0.22839494677851702",
         "-0.5423503726606616",
         "-0.16184634501488449",
         "-0.3545861364094985",
         "-0.31714505406527",
         "-0.3269839258807195",
         "-0.07083952930446921",
         "-0.0529597930169809",
         "5.6",
         "0.0"
        ],
        [
         "50%",
         "84692.0",
         "0.0181087991615309",
         "0.0654855563960555",
         "0.179846343563544",
         "-0.0198465294811989",
         "-0.0543358267364858",
         "-0.274187076506651",
         "0.0401030827945351",
         "0.0223580364366631",
         "-0.051428731550349",
         "-0.0929173835961975",
         "-0.032757354499007",
         "0.140032588291332",
         "-0.0135680567852071",
         "0.0506013193100486",
         "0.0480715497626106",
         "0.0664133205843014",
         "-0.0656757538072252",
         "-0.0036363123546992",
         "0.0037348229952574",
         "-0.0624810924603664",
         "-0.0294501676953819",
         "0.0067819425282695",
         "-0.0111929302967212",
         "0.0409760560572798",
         "0.0165935016367397",
         "-0.0521391080182019",
         "0.0013421459786502",
         "0.011243831564982",
         "22.0",
         "0.0"
        ],
        [
         "75%",
         "139320.5",
         "1.315641693877865",
         "0.8037238712400945",
         "1.027195542465555",
         "0.7433412894685876",
         "0.611926439735193",
         "0.39856489635610504",
         "0.5704360728775986",
         "0.327345861923449",
         "0.5971390302822686",
         "0.453923445139507",
         "0.739593407321606",
         "0.618238032946136",
         "0.662504959439974",
         "0.493149849218149",
         "0.648820806317158",
         "0.523296312475344",
         "0.3996749826503845",
         "0.5008067468872159",
         "0.458949355762679",
         "0.1330408409942945",
         "0.1863772033785755",
         "0.5285536353339865",
         "0.14764206385605",
         "0.439526600168186",
         "0.350715562867386",
         "0.2409521737147555",
         "0.09104511968580689",
         "0.07827995475782015",
         "77.16499999999999",
         "0.0"
        ],
        [
         "max",
         "172792.0",
         "2.45492999121121",
         "22.0577289904909",
         "9.38255843282114",
         "16.8753440335975",
         "34.8016658766686",
         "73.3016255459646",
         "120.589493945238",
         "20.0072083651213",
         "15.5949946071278",
         "23.7451361206545",
         "12.0189131816199",
         "7.8483920756446",
         "7.12688295859376",
         "10.5267660517847",
         "8.87774159774277",
         "17.3151115176278",
         "9.25352625047285",
         "5.04106918541184",
         "5.59197142733558",
         "39.4209042482199",
         "27.2028391573154",
         "10.5030900899454",
         "22.5284116897749",
         "4.58454913689817",
         "7.51958867870916",
         "3.5173456116238",
         "31.6121981061363",
         "33.8478078188831",
         "25691.16",
         "1.0"
        ]
       ],
       "shape": {
        "columns": 31,
        "rows": 8
       }
      },
      "text/html": [
       "<div>\n",
       "<style scoped>\n",
       "    .dataframe tbody tr th:only-of-type {\n",
       "        vertical-align: middle;\n",
       "    }\n",
       "\n",
       "    .dataframe tbody tr th {\n",
       "        vertical-align: top;\n",
       "    }\n",
       "\n",
       "    .dataframe thead th {\n",
       "        text-align: right;\n",
       "    }\n",
       "</style>\n",
       "<table border=\"1\" class=\"dataframe\">\n",
       "  <thead>\n",
       "    <tr style=\"text-align: right;\">\n",
       "      <th></th>\n",
       "      <th>Time</th>\n",
       "      <th>V1</th>\n",
       "      <th>V2</th>\n",
       "      <th>V3</th>\n",
       "      <th>V4</th>\n",
       "      <th>V5</th>\n",
       "      <th>V6</th>\n",
       "      <th>V7</th>\n",
       "      <th>V8</th>\n",
       "      <th>V9</th>\n",
       "      <th>...</th>\n",
       "      <th>V21</th>\n",
       "      <th>V22</th>\n",
       "      <th>V23</th>\n",
       "      <th>V24</th>\n",
       "      <th>V25</th>\n",
       "      <th>V26</th>\n",
       "      <th>V27</th>\n",
       "      <th>V28</th>\n",
       "      <th>Amount</th>\n",
       "      <th>Class</th>\n",
       "    </tr>\n",
       "  </thead>\n",
       "  <tbody>\n",
       "    <tr>\n",
       "      <th>count</th>\n",
       "      <td>284807.000000</td>\n",
       "      <td>2.848070e+05</td>\n",
       "      <td>2.848070e+05</td>\n",
       "      <td>2.848070e+05</td>\n",
       "      <td>2.848070e+05</td>\n",
       "      <td>2.848070e+05</td>\n",
       "      <td>2.848070e+05</td>\n",
       "      <td>2.848070e+05</td>\n",
       "      <td>2.848070e+05</td>\n",
       "      <td>2.848070e+05</td>\n",
       "      <td>...</td>\n",
       "      <td>2.848070e+05</td>\n",
       "      <td>2.848070e+05</td>\n",
       "      <td>2.848070e+05</td>\n",
       "      <td>2.848070e+05</td>\n",
       "      <td>2.848070e+05</td>\n",
       "      <td>2.848070e+05</td>\n",
       "      <td>2.848070e+05</td>\n",
       "      <td>2.848070e+05</td>\n",
       "      <td>284807.000000</td>\n",
       "      <td>284807.000000</td>\n",
       "    </tr>\n",
       "    <tr>\n",
       "      <th>mean</th>\n",
       "      <td>94813.859575</td>\n",
       "      <td>1.168375e-15</td>\n",
       "      <td>3.416908e-16</td>\n",
       "      <td>-1.379537e-15</td>\n",
       "      <td>2.074095e-15</td>\n",
       "      <td>9.604066e-16</td>\n",
       "      <td>1.487313e-15</td>\n",
       "      <td>-5.556467e-16</td>\n",
       "      <td>1.213481e-16</td>\n",
       "      <td>-2.406331e-15</td>\n",
       "      <td>...</td>\n",
       "      <td>1.654067e-16</td>\n",
       "      <td>-3.568593e-16</td>\n",
       "      <td>2.578648e-16</td>\n",
       "      <td>4.473266e-15</td>\n",
       "      <td>5.340915e-16</td>\n",
       "      <td>1.683437e-15</td>\n",
       "      <td>-3.660091e-16</td>\n",
       "      <td>-1.227390e-16</td>\n",
       "      <td>88.349619</td>\n",
       "      <td>0.001727</td>\n",
       "    </tr>\n",
       "    <tr>\n",
       "      <th>std</th>\n",
       "      <td>47488.145955</td>\n",
       "      <td>1.958696e+00</td>\n",
       "      <td>1.651309e+00</td>\n",
       "      <td>1.516255e+00</td>\n",
       "      <td>1.415869e+00</td>\n",
       "      <td>1.380247e+00</td>\n",
       "      <td>1.332271e+00</td>\n",
       "      <td>1.237094e+00</td>\n",
       "      <td>1.194353e+00</td>\n",
       "      <td>1.098632e+00</td>\n",
       "      <td>...</td>\n",
       "      <td>7.345240e-01</td>\n",
       "      <td>7.257016e-01</td>\n",
       "      <td>6.244603e-01</td>\n",
       "      <td>6.056471e-01</td>\n",
       "      <td>5.212781e-01</td>\n",
       "      <td>4.822270e-01</td>\n",
       "      <td>4.036325e-01</td>\n",
       "      <td>3.300833e-01</td>\n",
       "      <td>250.120109</td>\n",
       "      <td>0.041527</td>\n",
       "    </tr>\n",
       "    <tr>\n",
       "      <th>min</th>\n",
       "      <td>0.000000</td>\n",
       "      <td>-5.640751e+01</td>\n",
       "      <td>-7.271573e+01</td>\n",
       "      <td>-4.832559e+01</td>\n",
       "      <td>-5.683171e+00</td>\n",
       "      <td>-1.137433e+02</td>\n",
       "      <td>-2.616051e+01</td>\n",
       "      <td>-4.355724e+01</td>\n",
       "      <td>-7.321672e+01</td>\n",
       "      <td>-1.343407e+01</td>\n",
       "      <td>...</td>\n",
       "      <td>-3.483038e+01</td>\n",
       "      <td>-1.093314e+01</td>\n",
       "      <td>-4.480774e+01</td>\n",
       "      <td>-2.836627e+00</td>\n",
       "      <td>-1.029540e+01</td>\n",
       "      <td>-2.604551e+00</td>\n",
       "      <td>-2.256568e+01</td>\n",
       "      <td>-1.543008e+01</td>\n",
       "      <td>0.000000</td>\n",
       "      <td>0.000000</td>\n",
       "    </tr>\n",
       "    <tr>\n",
       "      <th>25%</th>\n",
       "      <td>54201.500000</td>\n",
       "      <td>-9.203734e-01</td>\n",
       "      <td>-5.985499e-01</td>\n",
       "      <td>-8.903648e-01</td>\n",
       "      <td>-8.486401e-01</td>\n",
       "      <td>-6.915971e-01</td>\n",
       "      <td>-7.682956e-01</td>\n",
       "      <td>-5.540759e-01</td>\n",
       "      <td>-2.086297e-01</td>\n",
       "      <td>-6.430976e-01</td>\n",
       "      <td>...</td>\n",
       "      <td>-2.283949e-01</td>\n",
       "      <td>-5.423504e-01</td>\n",
       "      <td>-1.618463e-01</td>\n",
       "      <td>-3.545861e-01</td>\n",
       "      <td>-3.171451e-01</td>\n",
       "      <td>-3.269839e-01</td>\n",
       "      <td>-7.083953e-02</td>\n",
       "      <td>-5.295979e-02</td>\n",
       "      <td>5.600000</td>\n",
       "      <td>0.000000</td>\n",
       "    </tr>\n",
       "    <tr>\n",
       "      <th>50%</th>\n",
       "      <td>84692.000000</td>\n",
       "      <td>1.810880e-02</td>\n",
       "      <td>6.548556e-02</td>\n",
       "      <td>1.798463e-01</td>\n",
       "      <td>-1.984653e-02</td>\n",
       "      <td>-5.433583e-02</td>\n",
       "      <td>-2.741871e-01</td>\n",
       "      <td>4.010308e-02</td>\n",
       "      <td>2.235804e-02</td>\n",
       "      <td>-5.142873e-02</td>\n",
       "      <td>...</td>\n",
       "      <td>-2.945017e-02</td>\n",
       "      <td>6.781943e-03</td>\n",
       "      <td>-1.119293e-02</td>\n",
       "      <td>4.097606e-02</td>\n",
       "      <td>1.659350e-02</td>\n",
       "      <td>-5.213911e-02</td>\n",
       "      <td>1.342146e-03</td>\n",
       "      <td>1.124383e-02</td>\n",
       "      <td>22.000000</td>\n",
       "      <td>0.000000</td>\n",
       "    </tr>\n",
       "    <tr>\n",
       "      <th>75%</th>\n",
       "      <td>139320.500000</td>\n",
       "      <td>1.315642e+00</td>\n",
       "      <td>8.037239e-01</td>\n",
       "      <td>1.027196e+00</td>\n",
       "      <td>7.433413e-01</td>\n",
       "      <td>6.119264e-01</td>\n",
       "      <td>3.985649e-01</td>\n",
       "      <td>5.704361e-01</td>\n",
       "      <td>3.273459e-01</td>\n",
       "      <td>5.971390e-01</td>\n",
       "      <td>...</td>\n",
       "      <td>1.863772e-01</td>\n",
       "      <td>5.285536e-01</td>\n",
       "      <td>1.476421e-01</td>\n",
       "      <td>4.395266e-01</td>\n",
       "      <td>3.507156e-01</td>\n",
       "      <td>2.409522e-01</td>\n",
       "      <td>9.104512e-02</td>\n",
       "      <td>7.827995e-02</td>\n",
       "      <td>77.165000</td>\n",
       "      <td>0.000000</td>\n",
       "    </tr>\n",
       "    <tr>\n",
       "      <th>max</th>\n",
       "      <td>172792.000000</td>\n",
       "      <td>2.454930e+00</td>\n",
       "      <td>2.205773e+01</td>\n",
       "      <td>9.382558e+00</td>\n",
       "      <td>1.687534e+01</td>\n",
       "      <td>3.480167e+01</td>\n",
       "      <td>7.330163e+01</td>\n",
       "      <td>1.205895e+02</td>\n",
       "      <td>2.000721e+01</td>\n",
       "      <td>1.559499e+01</td>\n",
       "      <td>...</td>\n",
       "      <td>2.720284e+01</td>\n",
       "      <td>1.050309e+01</td>\n",
       "      <td>2.252841e+01</td>\n",
       "      <td>4.584549e+00</td>\n",
       "      <td>7.519589e+00</td>\n",
       "      <td>3.517346e+00</td>\n",
       "      <td>3.161220e+01</td>\n",
       "      <td>3.384781e+01</td>\n",
       "      <td>25691.160000</td>\n",
       "      <td>1.000000</td>\n",
       "    </tr>\n",
       "  </tbody>\n",
       "</table>\n",
       "<p>8 rows × 31 columns</p>\n",
       "</div>"
      ],
      "text/plain": [
       "                Time            V1            V2            V3            V4  \\\n",
       "count  284807.000000  2.848070e+05  2.848070e+05  2.848070e+05  2.848070e+05   \n",
       "mean    94813.859575  1.168375e-15  3.416908e-16 -1.379537e-15  2.074095e-15   \n",
       "std     47488.145955  1.958696e+00  1.651309e+00  1.516255e+00  1.415869e+00   \n",
       "min         0.000000 -5.640751e+01 -7.271573e+01 -4.832559e+01 -5.683171e+00   \n",
       "25%     54201.500000 -9.203734e-01 -5.985499e-01 -8.903648e-01 -8.486401e-01   \n",
       "50%     84692.000000  1.810880e-02  6.548556e-02  1.798463e-01 -1.984653e-02   \n",
       "75%    139320.500000  1.315642e+00  8.037239e-01  1.027196e+00  7.433413e-01   \n",
       "max    172792.000000  2.454930e+00  2.205773e+01  9.382558e+00  1.687534e+01   \n",
       "\n",
       "                 V5            V6            V7            V8            V9  \\\n",
       "count  2.848070e+05  2.848070e+05  2.848070e+05  2.848070e+05  2.848070e+05   \n",
       "mean   9.604066e-16  1.487313e-15 -5.556467e-16  1.213481e-16 -2.406331e-15   \n",
       "std    1.380247e+00  1.332271e+00  1.237094e+00  1.194353e+00  1.098632e+00   \n",
       "min   -1.137433e+02 -2.616051e+01 -4.355724e+01 -7.321672e+01 -1.343407e+01   \n",
       "25%   -6.915971e-01 -7.682956e-01 -5.540759e-01 -2.086297e-01 -6.430976e-01   \n",
       "50%   -5.433583e-02 -2.741871e-01  4.010308e-02  2.235804e-02 -5.142873e-02   \n",
       "75%    6.119264e-01  3.985649e-01  5.704361e-01  3.273459e-01  5.971390e-01   \n",
       "max    3.480167e+01  7.330163e+01  1.205895e+02  2.000721e+01  1.559499e+01   \n",
       "\n",
       "       ...           V21           V22           V23           V24  \\\n",
       "count  ...  2.848070e+05  2.848070e+05  2.848070e+05  2.848070e+05   \n",
       "mean   ...  1.654067e-16 -3.568593e-16  2.578648e-16  4.473266e-15   \n",
       "std    ...  7.345240e-01  7.257016e-01  6.244603e-01  6.056471e-01   \n",
       "min    ... -3.483038e+01 -1.093314e+01 -4.480774e+01 -2.836627e+00   \n",
       "25%    ... -2.283949e-01 -5.423504e-01 -1.618463e-01 -3.545861e-01   \n",
       "50%    ... -2.945017e-02  6.781943e-03 -1.119293e-02  4.097606e-02   \n",
       "75%    ...  1.863772e-01  5.285536e-01  1.476421e-01  4.395266e-01   \n",
       "max    ...  2.720284e+01  1.050309e+01  2.252841e+01  4.584549e+00   \n",
       "\n",
       "                V25           V26           V27           V28         Amount  \\\n",
       "count  2.848070e+05  2.848070e+05  2.848070e+05  2.848070e+05  284807.000000   \n",
       "mean   5.340915e-16  1.683437e-15 -3.660091e-16 -1.227390e-16      88.349619   \n",
       "std    5.212781e-01  4.822270e-01  4.036325e-01  3.300833e-01     250.120109   \n",
       "min   -1.029540e+01 -2.604551e+00 -2.256568e+01 -1.543008e+01       0.000000   \n",
       "25%   -3.171451e-01 -3.269839e-01 -7.083953e-02 -5.295979e-02       5.600000   \n",
       "50%    1.659350e-02 -5.213911e-02  1.342146e-03  1.124383e-02      22.000000   \n",
       "75%    3.507156e-01  2.409522e-01  9.104512e-02  7.827995e-02      77.165000   \n",
       "max    7.519589e+00  3.517346e+00  3.161220e+01  3.384781e+01   25691.160000   \n",
       "\n",
       "               Class  \n",
       "count  284807.000000  \n",
       "mean        0.001727  \n",
       "std         0.041527  \n",
       "min         0.000000  \n",
       "25%         0.000000  \n",
       "50%         0.000000  \n",
       "75%         0.000000  \n",
       "max         1.000000  \n",
       "\n",
       "[8 rows x 31 columns]"
      ]
     },
     "execution_count": 3,
     "metadata": {},
     "output_type": "execute_result"
    }
   ],
   "source": [
    "data.describe()"
   ]
  },
  {
   "cell_type": "code",
   "execution_count": 4,
   "id": "56cd0e0e",
   "metadata": {},
   "outputs": [
    {
     "data": {
      "text/plain": [
       "Class\n",
       "0    99.827251\n",
       "1     0.172749\n",
       "Name: proportion, dtype: float64"
      ]
     },
     "execution_count": 4,
     "metadata": {},
     "output_type": "execute_result"
    }
   ],
   "source": [
    "### on ragarde ici la repartition des classes\n",
    "\n",
    "data[\"Class\"].value_counts(normalize= True) *100"
   ]
  },
  {
   "cell_type": "markdown",
   "id": "0d50784b",
   "metadata": {},
   "source": [
    "####  Il y'a un  tres grand deséquilibre , les fraudes sont ici minoritaires  , prés de 0.17 %"
   ]
  },
  {
   "cell_type": "code",
   "execution_count": 5,
   "id": "e93051d0",
   "metadata": {},
   "outputs": [
    {
     "data": {
      "image/png": "[encoded data removed]",
      "text/plain": [
       "<Figure size 640x480 with 1 Axes>"
      ]
     },
     "metadata": {},
     "output_type": "display_data"
    }
   ],
   "source": [
    "sns.countplot(x=\"Class\", data=data)\n",
    "plt.title(\"Répartition des classes\")\n",
    "plt.show()\n"
   ]
  },
  {
   "cell_type": "code",
   "execution_count": 6,
   "id": "01b8707f",
   "metadata": {},
   "outputs": [
    {
     "data": {
      "application/vnd.microsoft.datawrangler.viewer.v0+json": {
       "columns": [
        {
         "name": "Class",
         "rawType": "int64",
         "type": "integer"
        },
        {
         "name": "Time",
         "rawType": "float64",
         "type": "float"
        },
        {
         "name": "V1",
         "rawType": "float64",
         "type": "float"
        },
        {
         "name": "V2",
         "rawType": "float64",
         "type": "float"
        },
        {
         "name": "V3",
         "rawType": "float64",
         "type": "float"
        },
        {
         "name": "V4",
         "rawType": "float64",
         "type": "float"
        },
        {
         "name": "V5",
         "rawType": "float64",
         "type": "float"
        },
        {
         "name": "V6",
         "rawType": "float64",
         "type": "float"
        },
        {
         "name": "V7",
         "rawType": "float64",
         "type": "float"
        },
        {
         "name": "V8",
         "rawType": "float64",
         "type": "float"
        },
        {
         "name": "V9",
         "rawType": "float64",
         "type": "float"
        },
        {
         "name": "V10",
         "rawType": "float64",
         "type": "float"
        },
        {
         "name": "V11",
         "rawType": "float64",
         "type": "float"
        },
        {
         "name": "V12",
         "rawType": "float64",
         "type": "float"
        },
        {
         "name": "V13",
         "rawType": "float64",
         "type": "float"
        },
        {
         "name": "V14",
         "rawType": "float64",
         "type": "float"
        },
        {
         "name": "V15",
         "rawType": "float64",
         "type": "float"
        },
        {
         "name": "V16",
         "rawType": "float64",
         "type": "float"
        },
        {
         "name": "V17",
         "rawType": "float64",
         "type": "float"
        },
        {
         "name": "V18",
         "rawType": "float64",
         "type": "float"
        },
        {
         "name": "V19",
         "rawType": "float64",
         "type": "float"
        },
        {
         "name": "V20",
         "rawType": "float64",
         "type": "float"
        },
        {
         "name": "V21",
         "rawType": "float64",
         "type": "float"
        },
        {
         "name": "V22",
         "rawType": "float64",
         "type": "float"
        },
        {
         "name": "V23",
         "rawType": "float64",
         "type": "float"
        },
        {
         "name": "V24",
         "rawType": "float64",
         "type": "float"
        },
        {
         "name": "V25",
         "rawType": "float64",
         "type": "float"
        },
        {
         "name": "V26",
         "rawType": "float64",
         "type": "float"
        },
        {
         "name": "V27",
         "rawType": "float64",
         "type": "float"
        },
        {
         "name": "V28",
         "rawType": "float64",
         "type": "float"
        },
        {
         "name": "Amount",
         "rawType": "float64",
         "type": "float"
        }
       ],
       "conversionMethod": "pd.DataFrame",
       "ref": "f6eb7bd8-cd58-4d14-9c0b-904f9a27a1bb",
       "rows": [
        [
         "0",
         "94838.20225805884",
         "0.008257737485563701",
         "-0.0062708574158070645",
         "0.012170917031845342",
         "-0.007859867820465206",
         "0.005453115888647453",
         "0.002418748436107356",
         "0.009636549929484083",
         "-0.000987471151665288",
         "0.004466568691335972",
         "0.009823703892289417",
         "-0.0065761042238215465",
         "0.010831723172555756",
         "0.00018919943726136392",
         "0.012064392184377487",
         "0.00016081087344015633",
         "0.007164072539099487",
         "0.011535063252129248",
         "0.0038871800710979306",
         "-0.0011778639090783659",
         "-0.0006442894068880699",
         "-0.0012348468055254022",
         "-2.4311239340307784e-05",
         "6.975192742793267e-05",
         "0.00018192536544853248",
         "-7.17262632402943e-05",
         "-8.937579014912044e-05",
         "-0.00029517541383410544",
         "-0.00013094035488017165",
         "88.29102242231328"
        ],
        [
         "1",
         "80746.80691056911",
         "-4.771948441479082",
         "3.6237781019822806",
         "-7.0332810485965584",
         "4.542029104423093",
         "-3.1512248859360046",
         "-1.3977367105923515",
         "-5.5687310837427395",
         "0.5706358952962378",
         "-2.5811229217029954",
         "-5.676882870194368",
         "3.800172911374607",
         "-6.259393036190131",
         "-0.10933381708278404",
         "-6.971722894107602",
         "-0.09292874691208504",
         "-4.139945699092808",
         "-6.665836399449663",
         "-2.2463081339714064",
         "0.680659303475429",
         "0.37231939577147166",
         "0.7135883526687006",
         "0.01404888214012134",
         "-0.04030796594836945",
         "-0.1051303054394829",
         "0.04144888726282707",
         "0.05164812556245366",
         "0.17057479224418595",
         "0.0756672906457746",
         "122.21132113821139"
        ]
       ],
       "shape": {
        "columns": 30,
        "rows": 2
       }
      },
      "text/html": [
       "<div>\n",
       "<style scoped>\n",
       "    .dataframe tbody tr th:only-of-type {\n",
       "        vertical-align: middle;\n",
       "    }\n",
       "\n",
       "    .dataframe tbody tr th {\n",
       "        vertical-align: top;\n",
       "    }\n",
       "\n",
       "    .dataframe thead th {\n",
       "        text-align: right;\n",
       "    }\n",
       "</style>\n",
       "<table border=\"1\" class=\"dataframe\">\n",
       "  <thead>\n",
       "    <tr style=\"text-align: right;\">\n",
       "      <th></th>\n",
       "      <th>Time</th>\n",
       "      <th>V1</th>\n",
       "      <th>V2</th>\n",
       "      <th>V3</th>\n",
       "      <th>V4</th>\n",
       "      <th>V5</th>\n",
       "      <th>V6</th>\n",
       "      <th>V7</th>\n",
       "      <th>V8</th>\n",
       "      <th>V9</th>\n",
       "      <th>...</th>\n",
       "      <th>V20</th>\n",
       "      <th>V21</th>\n",
       "      <th>V22</th>\n",
       "      <th>V23</th>\n",
       "      <th>V24</th>\n",
       "      <th>V25</th>\n",
       "      <th>V26</th>\n",
       "      <th>V27</th>\n",
       "      <th>V28</th>\n",
       "      <th>Amount</th>\n",
       "    </tr>\n",
       "    <tr>\n",
       "      <th>Class</th>\n",
       "      <th></th>\n",
       "      <th></th>\n",
       "      <th></th>\n",
       "      <th></th>\n",
       "      <th></th>\n",
       "      <th></th>\n",
       "      <th></th>\n",
       "      <th></th>\n",
       "      <th></th>\n",
       "      <th></th>\n",
       "      <th></th>\n",
       "      <th></th>\n",
       "      <th></th>\n",
       "      <th></th>\n",
       "      <th></th>\n",
       "      <th></th>\n",
       "      <th></th>\n",
       "      <th></th>\n",
       "      <th></th>\n",
       "      <th></th>\n",
       "      <th></th>\n",
       "    </tr>\n",
       "  </thead>\n",
       "  <tbody>\n",
       "    <tr>\n",
       "      <th>0</th>\n",
       "      <td>94838.202258</td>\n",
       "      <td>0.008258</td>\n",
       "      <td>-0.006271</td>\n",
       "      <td>0.012171</td>\n",
       "      <td>-0.007860</td>\n",
       "      <td>0.005453</td>\n",
       "      <td>0.002419</td>\n",
       "      <td>0.009637</td>\n",
       "      <td>-0.000987</td>\n",
       "      <td>0.004467</td>\n",
       "      <td>...</td>\n",
       "      <td>-0.000644</td>\n",
       "      <td>-0.001235</td>\n",
       "      <td>-0.000024</td>\n",
       "      <td>0.000070</td>\n",
       "      <td>0.000182</td>\n",
       "      <td>-0.000072</td>\n",
       "      <td>-0.000089</td>\n",
       "      <td>-0.000295</td>\n",
       "      <td>-0.000131</td>\n",
       "      <td>88.291022</td>\n",
       "    </tr>\n",
       "    <tr>\n",
       "      <th>1</th>\n",
       "      <td>80746.806911</td>\n",
       "      <td>-4.771948</td>\n",
       "      <td>3.623778</td>\n",
       "      <td>-7.033281</td>\n",
       "      <td>4.542029</td>\n",
       "      <td>-3.151225</td>\n",
       "      <td>-1.397737</td>\n",
       "      <td>-5.568731</td>\n",
       "      <td>0.570636</td>\n",
       "      <td>-2.581123</td>\n",
       "      <td>...</td>\n",
       "      <td>0.372319</td>\n",
       "      <td>0.713588</td>\n",
       "      <td>0.014049</td>\n",
       "      <td>-0.040308</td>\n",
       "      <td>-0.105130</td>\n",
       "      <td>0.041449</td>\n",
       "      <td>0.051648</td>\n",
       "      <td>0.170575</td>\n",
       "      <td>0.075667</td>\n",
       "      <td>122.211321</td>\n",
       "    </tr>\n",
       "  </tbody>\n",
       "</table>\n",
       "<p>2 rows × 30 columns</p>\n",
       "</div>"
      ],
      "text/plain": [
       "               Time        V1        V2        V3        V4        V5  \\\n",
       "Class                                                                   \n",
       "0      94838.202258  0.008258 -0.006271  0.012171 -0.007860  0.005453   \n",
       "1      80746.806911 -4.771948  3.623778 -7.033281  4.542029 -3.151225   \n",
       "\n",
       "             V6        V7        V8        V9  ...       V20       V21  \\\n",
       "Class                                          ...                       \n",
       "0      0.002419  0.009637 -0.000987  0.004467  ... -0.000644 -0.001235   \n",
       "1     -1.397737 -5.568731  0.570636 -2.581123  ...  0.372319  0.713588   \n",
       "\n",
       "            V22       V23       V24       V25       V26       V27       V28  \\\n",
       "Class                                                                         \n",
       "0     -0.000024  0.000070  0.000182 -0.000072 -0.000089 -0.000295 -0.000131   \n",
       "1      0.014049 -0.040308 -0.105130  0.041449  0.051648  0.170575  0.075667   \n",
       "\n",
       "           Amount  \n",
       "Class              \n",
       "0       88.291022  \n",
       "1      122.211321  \n",
       "\n",
       "[2 rows x 30 columns]"
      ]
     },
     "execution_count": 6,
     "metadata": {},
     "output_type": "execute_result"
    }
   ],
   "source": [
    "data.groupby(\"Class\").mean()"
   ]
  },
  {
   "cell_type": "markdown",
   "id": "97754460",
   "metadata": {},
   "source": [
    "####  nous pouvons voir qu'il exites pour chaque feauture une grande difference . VXX change de signe en moyenne entre la  classe fraude et celles normales . et la valeure de des features VXX est considerablement plus grande en valeur absolue pour une classe fraude qu une classe normale ."
   ]
  },
  {
   "cell_type": "code",
   "execution_count": 7,
   "id": "4eaa12a9",
   "metadata": {},
   "outputs": [
    {
     "data": {
      "image/png": "[encoded data removed]",
      "text/plain": [
       "<Figure size 640x480 with 1 Axes>"
      ]
     },
     "metadata": {},
     "output_type": "display_data"
    },
    {
     "data": {
      "image/png": "[encoded data removed]",
      "text/plain": [
       "<Figure size 1200x500 with 1 Axes>"
      ]
     },
     "metadata": {},
     "output_type": "display_data"
    }
   ],
   "source": [
    "import matplotlib.pyplot as plt\n",
    "import seaborn as sns\n",
    "\n",
    "#plt.figure(figsize=(12,5))\n",
    "sns.histplot(data[data['Class'] == 0]['Amount'], bins=100, color='green', label='Transactions normales', stat='density')\n",
    "sns.histplot(data[data['Class'] == 1]['Amount'], bins=100, color='red', label='Fraudes', stat='density')\n",
    "plt.legend()\n",
    "plt.title(\"Distribution des montants - normales vs fraudes\")\n",
    "plt.xlabel(\"Montant (€)\")\n",
    "plt.show()\n",
    "\n",
    "\n",
    "plt.figure(figsize=(12,5))\n",
    "sns.histplot(data[(data['Class'] == 0) & (data['Amount'] < 1000)]['Amount'], bins=50, color='green', label='Normales', stat='density')\n",
    "sns.histplot(data[(data['Class'] == 1) & (data['Amount'] < 1000)]['Amount'], bins=50, color='red', label='Fraudes', stat='density')\n",
    "plt.legend()\n",
    "plt.title(\"Montants < 500€ - Transactions normales vs fraudes\")\n",
    "plt.xlabel(\"Montant (€)\")\n",
    "plt.show()\n"
   ]
  },
  {
   "cell_type": "markdown",
   "id": "8afea885",
   "metadata": {},
   "source": [
    "### reduction de dimmension avec PCA \n",
    "\n",
    "#### elle réduit les dimensions tout en gardant un maximum de variance . Tres utile ici pour voir s il exite une separation visuelle entre fraudes et non fraudes "
   ]
  },
  {
   "cell_type": "code",
   "execution_count": 8,
   "id": "f693abcc",
   "metadata": {},
   "outputs": [],
   "source": [
    "from sklearn.preprocessing import StandardScaler \n",
    "from sklearn.decomposition import PCA \n",
    "\n",
    "\n",
    "X = data.drop(columns=[\"Time\",\"Class\"])\n",
    "y = data[\"Class\"]\n",
    "scaler = StandardScaler()\n",
    "X_scaled = scaler.fit_transform(X)\n",
    "\n",
    "pca = PCA(n_components=2)\n",
    "X_pca = pca.fit_transform(X_scaled)\n",
    "\n",
    "# Mettre en DataFrame pour tracer\n",
    "pca_df = pd.DataFrame()\n",
    "pca_df['PCA1'] = X_pca[:, 0]\n",
    "pca_df['PCA2'] = X_pca[:, 1]\n",
    "pca_df['Class'] = y.values\n"
   ]
  },
  {
   "cell_type": "code",
   "execution_count": 9,
   "id": "19eb0c5d",
   "metadata": {},
   "outputs": [
    {
     "data": {
      "image/png": "[encoded data removed]",
      "text/plain": [
       "<Figure size 1000x600 with 1 Axes>"
      ]
     },
     "metadata": {},
     "output_type": "display_data"
    }
   ],
   "source": [
    "plt.figure(figsize=(10, 6))\n",
    "sns.scatterplot(data=pca_df, x='PCA1', y='PCA2', hue='Class', palette={0: \"green\", 1: \"red\"}, alpha=0.3)\n",
    "plt.title(\"Projection PCA – Fraudes vs Normales\")\n",
    "plt.xlabel(\"Composante principale 1\")\n",
    "plt.ylabel(\"Composante principale 2\")\n",
    "plt.legend(title=\"Classe\", labels=[\"Normale\", \"Fraude\"])\n",
    "plt.show()\n"
   ]
  },
  {
   "cell_type": "code",
   "execution_count": 10,
   "id": "71ac5119",
   "metadata": {},
   "outputs": [],
   "source": [
    "#Modele isolation forest \n",
    "## -> Isole les points anormaux en les séprarant rapidement des autres avec des arbres aléatoires \n",
    "# gere bien les déséquilibre des donnéees \n",
    "from sklearn.model_selection import train_test_split \n",
    "from sklearn.ensemble import IsolationForest\n",
    "\n",
    "# Reprendre les features comme pour le PCA\n",
    "X = data.drop(columns=[\"Time\", \"Class\"])\n",
    "scaler = StandardScaler()\n",
    "X_scaled = scaler.fit_transform(X)\n",
    "\n",
    "\n",
    "X_train, X_test, y_train, y_test = train_test_split(X_scaled, y, test_size=0.2, stratify=y)\n",
    "#modele et prediction \n",
    "\n",
    "iso_forest = IsolationForest(n_estimators=100, contamination=0.001, random_state=42)\n",
    "y_pred_iso = iso_forest.fit_predict(X_test)\n",
    "\n",
    "#-> y_pred_iso = - 1 si y a anomalie , 1 sinon \n",
    "\n"
   ]
  },
  {
   "cell_type": "code",
   "execution_count": 11,
   "id": "5bb49d5a",
   "metadata": {},
   "outputs": [
    {
     "name": "stdout",
     "output_type": "stream",
     "text": [
      "              precision    recall  f1-score   support\n",
      "\n",
      "     Normale       1.00      1.00      1.00     56864\n",
      "      Fraude       0.28      0.16      0.21        98\n",
      "\n",
      "    accuracy                           1.00     56962\n",
      "   macro avg       0.64      0.58      0.60     56962\n",
      "weighted avg       1.00      1.00      1.00     56962\n",
      "\n"
     ]
    }
   ],
   "source": [
    "# Convertir en 0 (normale) / 1 (anomalie)\n",
    "y_pred_binary = [1 if x == -1 else 0 for x in y_pred_iso]\n",
    "\n",
    "from sklearn.metrics import classification_report, confusion_matrix\n",
    "\n",
    "print(classification_report(y_test, y_pred_binary, target_names=[\"Normale\", \"Fraude\"]))\n"
   ]
  },
  {
   "cell_type": "markdown",
   "id": "9a211d85",
   "metadata": {},
   "source": [
    "### le modele est trop conservateur , il prefere ne pas classer une transaction de fraude . ce qui est témoigné par un taux de faux négatif trés élevées comme on le voit dans la matrice de confusion ci dessous "
   ]
  },
  {
   "cell_type": "code",
   "execution_count": 12,
   "id": "f03e8e81",
   "metadata": {},
   "outputs": [
    {
     "data": {
      "image/png": "[encoded data removed]",
      "text/plain": [
       "<Figure size 640x480 with 2 Axes>"
      ]
     },
     "metadata": {},
     "output_type": "display_data"
    }
   ],
   "source": [
    "sns.heatmap(confusion_matrix(y_test, y_pred_binary), annot=True, fmt='d', cmap='YlGnBu',\n",
    "            xticklabels=[\"Prévu normal\", \"Prévu fraude\"],\n",
    "            yticklabels=[\"Réel normal\", \"Réel fraude\"])\n",
    "plt.title(\"Matrice de confusion - Isolation Forest\")\n",
    "plt.xlabel(\"Prédiction\")\n",
    "plt.ylabel(\"Vérité terrain\")\n",
    "plt.show()\n"
   ]
  },
  {
   "cell_type": "code",
   "execution_count": 16,
   "id": "ceb26c9e",
   "metadata": {},
   "outputs": [
    {
     "name": "stdout",
     "output_type": "stream",
     "text": [
      "📊 Résultats du modèle One-Class SVM :\n",
      "              precision    recall  f1-score   support\n",
      "\n",
      "     Normale       1.00      0.96      0.98     56864\n",
      "      Fraude       0.04      0.89      0.07        98\n",
      "\n",
      "    accuracy                           0.96     56962\n",
      "   macro avg       0.52      0.92      0.53     56962\n",
      "weighted avg       1.00      0.96      0.98     56962\n",
      "\n"
     ]
    },
    {
     "data": {
      "image/png": "[encoded data removed]",
      "text/plain": [
       "<Figure size 640x480 with 2 Axes>"
      ]
     },
     "metadata": {},
     "output_type": "display_data"
    }
   ],
   "source": [
    "from sklearn.svm import OneClassSVM\n",
    "from sklearn.metrics import classification_report, confusion_matrix, ConfusionMatrixDisplay\n",
    "import numpy as np\n",
    "import matplotlib.pyplot as plt\n",
    "from sklearn.utils import resample\n",
    "\n",
    "X_train_normal = resample(X_train[y_train == 0], \n",
    "                          replace=False, \n",
    "                          n_samples=10000,  # ou 10 000\n",
    "                          random_state=42)\n",
    "\n",
    "# Initialisation et entraînement du SVM\n",
    "svm = OneClassSVM(kernel='rbf', nu=0.0005, gamma='auto')\n",
    "svm.fit(X_train_normal)\n",
    "\n",
    "# Prédiction sur le test set complet\n",
    "y_pred_svm = svm.predict(X_test)\n",
    "\n",
    "# Conversion : -1 = anomalie → 1 (fraude), 1 = normal → 0\n",
    "y_pred_svm = np.where(y_pred_svm == -1, 1, 0)\n",
    "\n",
    "# Rapport de classification\n",
    "print(\"📊 Résultats du modèle One-Class SVM :\")\n",
    "print(classification_report(y_test, y_pred_svm, target_names=[\"Normale\", \"Fraude\"]))\n",
    "\n",
    "# Matrice de confusion\n",
    "cm = confusion_matrix(y_test, y_pred_svm)\n",
    "disp = ConfusionMatrixDisplay(confusion_matrix=cm, display_labels=[\"Normale\", \"Fraude\"])\n",
    "disp.plot(cmap=\"Reds\")\n",
    "plt.title(\"Matrice de confusion – One-Class SVM\")\n",
    "plt.grid(False)\n",
    "plt.show()\n"
   ]
  },
  {
   "cell_type": "markdown",
   "id": "3acdd1f1",
   "metadata": {},
   "source": [
    "### Le modèle est très agressif : il classe quasiment tout comme fraude, ce qui lui donne un très bon rappel, mais une précision catastrophique.\n",
    "### C’est typique quand on tune mal nu ou gamma, ou quand le modèle ne capture pas bien les normales."
   ]
  },
  {
   "cell_type": "code",
   "execution_count": 17,
   "id": "46e2a7a1",
   "metadata": {},
   "outputs": [
    {
     "data": {
      "application/vnd.microsoft.datawrangler.viewer.v0+json": {
       "columns": [
        {
         "name": "index",
         "rawType": "int64",
         "type": "integer"
        },
        {
         "name": "nu",
         "rawType": "float64",
         "type": "float"
        },
        {
         "name": "gamma",
         "rawType": "object",
         "type": "unknown"
        },
        {
         "name": "precision",
         "rawType": "float64",
         "type": "float"
        },
        {
         "name": "recall",
         "rawType": "float64",
         "type": "float"
        },
        {
         "name": "f1",
         "rawType": "float64",
         "type": "float"
        }
       ],
       "conversionMethod": "pd.DataFrame",
       "ref": "ffb2e53e-f805-4297-a047-922c73e9cb89",
       "rows": [
        [
         "2",
         "0.001",
         "0.01",
         "0.0929451287793953",
         "0.8469387755102041",
         "0.16750756811301715"
        ],
        [
         "5",
         "0.0005",
         "0.01",
         "0.09273743016759776",
         "0.8469387755102041",
         "0.16717019133937563"
        ],
        [
         "8",
         "0.0001",
         "0.01",
         "0.09161147902869757",
         "0.8469387755102041",
         "0.16533864541832669"
        ],
        [
         "0",
         "0.001",
         "auto",
         "0.029958677685950414",
         "0.8877551020408163",
         "0.057961359093937376"
        ],
        [
         "3",
         "0.0005",
         "auto",
         "0.029958677685950414",
         "0.8877551020408163",
         "0.057961359093937376"
        ],
        [
         "6",
         "0.0001",
         "auto",
         "0.0283203125",
         "0.8877551020408163",
         "0.05488958990536277"
        ],
        [
         "1",
         "0.001",
         "0.1",
         "0.008347092276646487",
         "0.9285714285714286",
         "0.016545454545454544"
        ],
        [
         "4",
         "0.0005",
         "0.1",
         "0.008194506978838362",
         "0.9285714285714286",
         "0.016245648487012408"
        ],
        [
         "7",
         "0.0001",
         "0.1",
         "0.004099456376437037",
         "0.9387755102040817",
         "0.00816326530612245"
        ]
       ],
       "shape": {
        "columns": 5,
        "rows": 9
       }
      },
      "text/html": [
       "<div>\n",
       "<style scoped>\n",
       "    .dataframe tbody tr th:only-of-type {\n",
       "        vertical-align: middle;\n",
       "    }\n",
       "\n",
       "    .dataframe tbody tr th {\n",
       "        vertical-align: top;\n",
       "    }\n",
       "\n",
       "    .dataframe thead th {\n",
       "        text-align: right;\n",
       "    }\n",
       "</style>\n",
       "<table border=\"1\" class=\"dataframe\">\n",
       "  <thead>\n",
       "    <tr style=\"text-align: right;\">\n",
       "      <th></th>\n",
       "      <th>nu</th>\n",
       "      <th>gamma</th>\n",
       "      <th>precision</th>\n",
       "      <th>recall</th>\n",
       "      <th>f1</th>\n",
       "    </tr>\n",
       "  </thead>\n",
       "  <tbody>\n",
       "    <tr>\n",
       "      <th>2</th>\n",
       "      <td>0.001</td>\n",
       "      <td>0.010</td>\n",
       "      <td>0.093</td>\n",
       "      <td>0.847</td>\n",
       "      <td>0.168</td>\n",
       "    </tr>\n",
       "    <tr>\n",
       "      <th>5</th>\n",
       "      <td>0.001</td>\n",
       "      <td>0.010</td>\n",
       "      <td>0.093</td>\n",
       "      <td>0.847</td>\n",
       "      <td>0.167</td>\n",
       "    </tr>\n",
       "    <tr>\n",
       "      <th>8</th>\n",
       "      <td>0.000</td>\n",
       "      <td>0.010</td>\n",
       "      <td>0.092</td>\n",
       "      <td>0.847</td>\n",
       "      <td>0.165</td>\n",
       "    </tr>\n",
       "    <tr>\n",
       "      <th>0</th>\n",
       "      <td>0.001</td>\n",
       "      <td>auto</td>\n",
       "      <td>0.030</td>\n",
       "      <td>0.888</td>\n",
       "      <td>0.058</td>\n",
       "    </tr>\n",
       "    <tr>\n",
       "      <th>3</th>\n",
       "      <td>0.001</td>\n",
       "      <td>auto</td>\n",
       "      <td>0.030</td>\n",
       "      <td>0.888</td>\n",
       "      <td>0.058</td>\n",
       "    </tr>\n",
       "    <tr>\n",
       "      <th>6</th>\n",
       "      <td>0.000</td>\n",
       "      <td>auto</td>\n",
       "      <td>0.028</td>\n",
       "      <td>0.888</td>\n",
       "      <td>0.055</td>\n",
       "    </tr>\n",
       "    <tr>\n",
       "      <th>1</th>\n",
       "      <td>0.001</td>\n",
       "      <td>0.100</td>\n",
       "      <td>0.008</td>\n",
       "      <td>0.929</td>\n",
       "      <td>0.017</td>\n",
       "    </tr>\n",
       "    <tr>\n",
       "      <th>4</th>\n",
       "      <td>0.001</td>\n",
       "      <td>0.100</td>\n",
       "      <td>0.008</td>\n",
       "      <td>0.929</td>\n",
       "      <td>0.016</td>\n",
       "    </tr>\n",
       "    <tr>\n",
       "      <th>7</th>\n",
       "      <td>0.000</td>\n",
       "      <td>0.100</td>\n",
       "      <td>0.004</td>\n",
       "      <td>0.939</td>\n",
       "      <td>0.008</td>\n",
       "    </tr>\n",
       "  </tbody>\n",
       "</table>\n",
       "</div>"
      ],
      "text/plain": [
       "     nu gamma  precision  recall    f1\n",
       "2 0.001 0.010      0.093   0.847 0.168\n",
       "5 0.001 0.010      0.093   0.847 0.167\n",
       "8 0.000 0.010      0.092   0.847 0.165\n",
       "0 0.001  auto      0.030   0.888 0.058\n",
       "3 0.001  auto      0.030   0.888 0.058\n",
       "6 0.000  auto      0.028   0.888 0.055\n",
       "1 0.001 0.100      0.008   0.929 0.017\n",
       "4 0.001 0.100      0.008   0.929 0.016\n",
       "7 0.000 0.100      0.004   0.939 0.008"
      ]
     },
     "execution_count": 17,
     "metadata": {},
     "output_type": "execute_result"
    }
   ],
   "source": [
    "from sklearn.svm import OneClassSVM\n",
    "from sklearn.metrics import precision_score, recall_score, f1_score\n",
    "\n",
    "# Sous-échantillon d'entraînement pour ne pas exploser le temps de calcul\n",
    "X_train_normal_sample = resample(X_train[y_train == 0], \n",
    "                                 replace=False, \n",
    "                                 n_samples=5000, \n",
    "                                 random_state=42)\n",
    "\n",
    "# Test set complet\n",
    "results = []\n",
    "\n",
    "for nu in [0.001, 0.0005, 0.0001]:\n",
    "    for gamma in ['auto', 0.1, 0.01]:\n",
    "        svm = OneClassSVM(kernel='rbf', nu=nu, gamma=gamma)\n",
    "        svm.fit(X_train_normal_sample)\n",
    "        y_pred = svm.predict(X_test)\n",
    "        y_pred = np.where(y_pred == -1, 1, 0)\n",
    "\n",
    "        prec = precision_score(y_test, y_pred)\n",
    "        rec = recall_score(y_test, y_pred)\n",
    "        f1 = f1_score(y_test, y_pred)\n",
    "        results.append({\n",
    "            'nu': nu,\n",
    "            'gamma': gamma,\n",
    "            'precision': prec,\n",
    "            'recall': rec,\n",
    "            'f1': f1\n",
    "        })\n",
    "\n",
    "# Affichage\n",
    "import pandas as pd\n",
    "pd.set_option('display.float_format', lambda x: f'{x:.3f}')\n",
    "df_results = pd.DataFrame(results)\n",
    "df_results.sort_values(by='f1', ascending=False)\n"
   ]
  }
 ],
 "metadata": {
  "kernelspec": {
   "display_name": "Python 3 (ipykernel)",
   "language": "python",
   "name": "python3"
  },
  "language_info": {
   "codemirror_mode": {
    "name": "ipython",
    "version": 3
   },
   "file_extension": ".py",
   "mimetype": "text/x-python",
   "name": "python",
   "nbconvert_exporter": "python",
   "pygments_lexer": "ipython3",
   "version": "3.12.3"
  }
 },
 "nbformat": 4,
 "nbformat_minor": 5
}
